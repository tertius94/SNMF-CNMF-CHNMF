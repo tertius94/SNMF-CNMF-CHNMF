{
 "cells": [
  {
   "cell_type": "code",
   "execution_count": 1,
   "id": "7b8b98d7-9af5-4327-ae01-954332aebe16",
   "metadata": {
    "tags": []
   },
   "outputs": [],
   "source": [
    "from scipy.io import loadmat\n",
    "data = loadmat(r'C:\\Users\\terti\\jupyter_lab\\projetos\\matrix_fact-main\\matrix_fact\\Urban.mat')\n"
   ]
  },
  {
   "cell_type": "code",
   "execution_count": 3,
   "id": "f8d722be-2d22-44c1-8e5c-76bffa1527b9",
   "metadata": {},
   "outputs": [
    {
     "data": {
      "text/plain": [
       "{'__header__': b'MATLAB 5.0 MAT-file, Platform: PCWIN64, Created on: Wed Nov 27 14:17:00 2019',\n",
       " '__version__': '1.0',\n",
       " '__globals__': [],\n",
       " 'X': array([[109, 116, 119, ...,  16,  12,   9],\n",
       "        [113, 119, 119, ...,  19,  16,  13],\n",
       "        [118, 130, 127, ...,  28,  25,  23],\n",
       "        ...,\n",
       "        [259, 266, 289, ...,  77,  62,  47],\n",
       "        [237, 256, 275, ...,  76,  66,  57],\n",
       "        [264, 307, 275, ...,  61,  50,  72]], dtype=uint16)}"
      ]
     },
     "execution_count": 3,
     "metadata": {},
     "output_type": "execute_result"
    }
   ],
   "source": [
    "data"
   ]
  },
  {
   "cell_type": "code",
   "execution_count": 4,
   "id": "f38b321a-bc25-4c52-9f82-5cb00aa2dfa5",
   "metadata": {},
   "outputs": [
    {
     "data": {
      "text/plain": [
       "(162, 94249)"
      ]
     },
     "execution_count": 4,
     "metadata": {},
     "output_type": "execute_result"
    }
   ],
   "source": [
    "# Suponha que 'data' é o seu dicionário\n",
    "array_X = data['X']\n",
    "array_X.shape\n"
   ]
  },
  {
   "cell_type": "code",
   "execution_count": 15,
   "id": "088a4c67-b7be-421a-bfd4-ad7dc662c74a",
   "metadata": {
    "tags": []
   },
   "outputs": [
    {
     "data": {
      "text/plain": [
       "167.12874891818612"
      ]
     },
     "execution_count": 15,
     "metadata": {},
     "output_type": "execute_result"
    }
   ],
   "source": [
    "import numpy as np\n",
    "np.mean(array_X)"
   ]
  },
  {
   "cell_type": "code",
   "execution_count": 20,
   "id": "0463562b-56f4-408f-b18c-d7dfbad5d8c6",
   "metadata": {
    "tags": []
   },
   "outputs": [
    {
     "data": {
      "text/plain": [
       "array([[0.109, 0.116, 0.119, ..., 0.016, 0.012, 0.009],\n",
       "       [0.113, 0.119, 0.119, ..., 0.019, 0.016, 0.013],\n",
       "       [0.118, 0.13 , 0.127, ..., 0.028, 0.025, 0.023],\n",
       "       ...,\n",
       "       [0.259, 0.266, 0.289, ..., 0.077, 0.062, 0.047],\n",
       "       [0.237, 0.256, 0.275, ..., 0.076, 0.066, 0.057],\n",
       "       [0.264, 0.307, 0.275, ..., 0.061, 0.05 , 0.072]])"
      ]
     },
     "execution_count": 20,
     "metadata": {},
     "output_type": "execute_result"
    }
   ],
   "source": [
    "array_X/1000"
   ]
  },
  {
   "cell_type": "code",
   "execution_count": null,
   "id": "c4721f16-0d8e-423a-b95c-f7cddc7a6b36",
   "metadata": {},
   "outputs": [],
   "source": []
  },
  {
   "cell_type": "code",
   "execution_count": null,
   "id": "7822fc1d-8bac-46c5-8440-e3e54f9e53c9",
   "metadata": {},
   "outputs": [],
   "source": []
  },
  {
   "cell_type": "code",
   "execution_count": null,
   "id": "7bd7fc29-c0d5-4b5b-b28b-5c1a14600db2",
   "metadata": {},
   "outputs": [],
   "source": []
  }
 ],
 "metadata": {
  "kernelspec": {
   "display_name": "Python 3 (ipykernel)",
   "language": "python",
   "name": "python3"
  },
  "language_info": {
   "codemirror_mode": {
    "name": "ipython",
    "version": 3
   },
   "file_extension": ".py",
   "mimetype": "text/x-python",
   "name": "python",
   "nbconvert_exporter": "python",
   "pygments_lexer": "ipython3",
   "version": "3.11.4"
  }
 },
 "nbformat": 4,
 "nbformat_minor": 5
}
